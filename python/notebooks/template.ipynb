{
 "cells": [
  {
   "cell_type": "markdown",
   "metadata": {},
   "source": [
    "Template for HFSS Simulation"
   ]
  },
  {
   "cell_type": "code",
   "execution_count": 1,
   "metadata": {},
   "outputs": [],
   "source": [
    "# Imports\n",
    "\n",
    "from pathlib import Path\n",
    "\n",
    "from pyaedt import Desktop, Hfss\n",
    "from pyaedt.generic.constants import SOLUTIONS\n",
    "from pyaedt.generic.general_methods import remove_project_lock\n"
   ]
  },
  {
   "cell_type": "code",
   "execution_count": 2,
   "metadata": {},
   "outputs": [
    {
     "name": "stdout",
     "output_type": "stream",
     "text": [
      "Initializing new desktop!\n",
      "PyAEDT INFO: StdOut is enabled\n",
      "PyAEDT INFO: Log on file is enabled\n",
      "PyAEDT INFO: Log on Desktop Message Manager is enabled\n",
      "PyAEDT INFO: Debug logger is disabled. PyAEDT methods will not be logged.\n",
      "PyAEDT INFO: Launching PyAEDT outside AEDT with gRPC plugin.\n",
      "PyAEDT INFO: Launching AEDT using the gRPC plugin.\n",
      "PyAEDT INFO: New AEDT session is starting on gRPC port 57438\n",
      "PyAEDT INFO: AEDT installation Path C:\\Program Files\\AnsysEM\\v231\\Win64\n",
      "PyAEDT INFO: Ansoft.ElectronicsDesktop.2023.1 version started with process ID 19712.\n",
      "PyAEDT INFO: pyaedt v0.6.91\n",
      "PyAEDT INFO: Python version 3.10.12 | packaged by conda-forge | (main, Jun 23 2023, 22:34:57) [MSC v.1936 64 bit (AMD64)]\n",
      "PyAEDT INFO: AEDT 2023.1.0 Build Date 2022-11-20 22:10:41\n"
     ]
    }
   ],
   "source": [
    "# Launch AEDT\n",
    "# spell-checker:words AEDT\n",
    "\n",
    "d = Desktop(\n",
    "    non_graphical=False,\n",
    "    new_desktop_session=False,\n",
    ")\n",
    "d.enable_autosave()"
   ]
  },
  {
   "cell_type": "code",
   "execution_count": 4,
   "metadata": {},
   "outputs": [
    {
     "name": "stdout",
     "output_type": "stream",
     "text": [
      "Returning found desktop with PID 19712!\n",
      "PyAEDT INFO: Project example-project set to active.\n",
      "PyAEDT INFO: Aedt Objects correctly read\n",
      "PyAEDT INFO: AEDT file load (threaded) time: 0.11510801315307617\n"
     ]
    },
    {
     "data": {
      "text/plain": [
       "True"
      ]
     },
     "execution_count": 4,
     "metadata": {},
     "output_type": "execute_result"
    }
   ],
   "source": [
    "# Create project\n",
    "# spell-checker:words AEDT\n",
    "\n",
    "project_name = \"example-project\"\n",
    "project_dir = Path(\"./projects\")\n",
    "project_dir.mkdir(exist_ok=True)\n",
    "project_path = project_dir / f\"{project_name}.aedt\"\n",
    "remove_project_lock(str(project_path))\n",
    "design_name = \"base-design\"\n",
    "\n",
    "hfss = Hfss(\n",
    "    projectname=str(project_path.absolute()),\n",
    "    designname=design_name,\n",
    "    solution_type=SOLUTIONS.Hfss.DrivenModal,\n",
    ")\n",
    "hfss.set_auto_open()\n",
    "setup_name = \"Auto1\""
   ]
  },
  {
   "cell_type": "code",
   "execution_count": 5,
   "metadata": {},
   "outputs": [],
   "source": [
    "# Variables\n",
    "\n",
    "variables = dict(\n",
    "    x_gnd_off=\"7 mm\",\n",
    "    y_gnd_off=\"x_gnd_off\",\n",
    "    xl_hole1=\"2 mm\",\n",
    "    yl_hole1=\"2 mm\",\n",
    "    w_feed=\"0.4 mm\",\n",
    "    l_stub=\"1mm\",\n",
    "    zl_sub1=\"0.203 mm\",\n",
    "    zl_sub2=\"1.27 mm\",\n",
    "    w_slot=\"0.3 mm\",\n",
    "    l_slot=\"2.5 mm\",\n",
    ")"
   ]
  },
  {
   "cell_type": "code",
   "execution_count": 17,
   "metadata": {},
   "outputs": [
    {
     "data": {
      "text/plain": [
       "True"
      ]
     },
     "execution_count": 17,
     "metadata": {},
     "output_type": "execute_result"
    }
   ],
   "source": [
    "# Exit\n",
    "\n",
    "d.release_desktop(close_on_exit=False)"
   ]
  }
 ],
 "metadata": {
  "kernelspec": {
   "display_name": "Python 3",
   "language": "python",
   "name": "python3"
  },
  "language_info": {
   "codemirror_mode": {
    "name": "ipython",
    "version": 3
   },
   "file_extension": ".py",
   "mimetype": "text/x-python",
   "name": "python",
   "nbconvert_exporter": "python",
   "pygments_lexer": "ipython3",
   "version": "3.10.12"
  },
  "orig_nbformat": 4
 },
 "nbformat": 4,
 "nbformat_minor": 2
}
